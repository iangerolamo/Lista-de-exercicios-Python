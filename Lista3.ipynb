{
 "cells": [
  {
   "cell_type": "markdown",
   "metadata": {},
   "source": [
    "Exercício 1: Faça um programa que peça para digitar o nome dele, após isso substitua as letras 'a' pela letra 'o'. Garanta que não exista espaços no início ou final do nome. Caso seja a letra 'a' substitua por 'o', caso seja a letra 'A' substitua por 'O'. Exiba uma mensagem na tela mostrando o nome modificado. "
   ]
  },
  {
   "cell_type": "code",
   "execution_count": 12,
   "metadata": {
    "hide_input": false
   },
   "outputs": [
    {
     "name": "stdout",
     "output_type": "stream",
     "text": [
      "Digite o seu nome: Ian Souza Gerolamo\n",
      "Agora você se chama: Ion Souzo Gerolomo\n"
     ]
    }
   ],
   "source": [
    "nome = input('Digite o seu nome: ')\n",
    "if 'a' not in nome and 'A' not in nome:\n",
    "    print(f'Você se chama {nome}, e não possui as letras \"a\" ou \"A\" no seu nome!')\n",
    "if 'a' in nome or 'A' in nome:\n",
    "    nome = nome.replace('a','o') #A função replace() substitui uma parte do texto por uma outra String\n",
    "    nome = nome.replace('A', 'O') #A função strip() retira espaços em branco no começo e no fim\n",
    "    nome = nome.strip()\n",
    "    print(f'Agora você se chama: {nome}')"
   ]
  },
  {
   "cell_type": "markdown",
   "metadata": {},
   "source": [
    "Exercício 2: Thiago salvou os valores apostado em um mês como string, no entanto, ele deseja transformá-los para lista e valores númericos para que seja possível realizar operações matemáticas.\n",
    "Veja abaixo a string com os valores que Thiago apostou e ajude-o a solucionar o problema:\n",
    "valores_apostado = '100.3, 12.1, 15.89, 13.12, 23.41, 34.56, 21.76'"
   ]
  },
  {
   "cell_type": "code",
   "execution_count": 4,
   "metadata": {},
   "outputs": [],
   "source": [
    "valores_apostados = '100.3, 12.1, 15.89, 13.12, 23.41, 34.56, 21.76'\n",
    "item = []"
   ]
  },
  {
   "cell_type": "code",
   "execution_count": 10,
   "metadata": {},
   "outputs": [
    {
     "name": "stdout",
     "output_type": "stream",
     "text": [
      "['100.3', ' 12.1', ' 15.89', ' 13.12', ' 23.41', ' 34.56', ' 21.76']\n",
      "['100.3', '12.1', '15.89', '13.12', '23.41', '34.56', '21.76']\n",
      "[100.3, 12.1, 15.89, 13.12, 23.41, 34.56, 21.76]\n"
     ]
    }
   ],
   "source": [
    "lista_valores = valores_apostados.split(',') #A funçãosplit() divide um texto qnd a String passada como argumento for localizada\n",
    "lista_final_str = [item.strip() for item in lista_valores] #A função strip() retira espaços em branco no começo e no fim\n",
    "lista_final_float = [float(item) for item in lista_final_str]\n",
    "print(lista_valores)\n",
    "print(lista_final_str)\n",
    "print(lista_final_float)"
   ]
  },
  {
   "cell_type": "markdown",
   "metadata": {},
   "source": [
    "Exercício 3: Escreva um programa que calcule o tamanho de uma string digitada pelo usuário sem utilizar a função len().\n",
    "Exiba na tela o resultado utilizando o seu algoritmo e utilizando a função len()."
   ]
  },
  {
   "cell_type": "code",
   "execution_count": 11,
   "metadata": {},
   "outputs": [
    {
     "name": "stdout",
     "output_type": "stream",
     "text": [
      "Digite uma string: Corinthians\n",
      "O tamanho da string utilizando o laço for é: 11\n",
      "O tamanho da string utilizando a função len é: 11\n"
     ]
    }
   ],
   "source": [
    "string = input('Digite uma string: ')\n",
    "tamanho = 0\n",
    "for item in string:\n",
    "    tamanho += 1\n",
    "print(f'O tamanho da string utilizando o laço for é: {tamanho}')\n",
    "print(f'O tamanho da string utilizando a função len é: {len(string)}')"
   ]
  },
  {
   "cell_type": "markdown",
   "metadata": {},
   "source": [
    "Exercício 4: Escreva um programa que solicite ao usuário para entrar com uma string e depois com um caractere. Conte o número de vezes que o caractere aparece na string sem utilizar o metódo .count()\n",
    "Exiba a resposta na tela para o usuário.\n"
   ]
  },
  {
   "cell_type": "code",
   "execution_count": 13,
   "metadata": {},
   "outputs": [
    {
     "name": "stdout",
     "output_type": "stream",
     "text": [
      "Digite uma string: Ian Souza Gerolamo\n",
      "Digite o caractere que você deseja contar: a\n",
      "O caractere \"a\" aparece 3 vez(es) na string \"Ian Souza Gerolamo\".\n"
     ]
    }
   ],
   "source": [
    "string = input('Digite uma string: ')\n",
    "char = input('Digite o caractere que você deseja contar: ')\n",
    "count = 0\n",
    "for item in string:\n",
    "    if char == item:\n",
    "        count += 1\n",
    "print(f'O caractere \"{char}\" aparece {count} vez(es) na string \"{string}\".')"
   ]
  },
  {
   "cell_type": "markdown",
   "metadata": {},
   "source": [
    "Exercício 5: Escreva um programa que peça ao usuário para digitar uma string e retorne outra string com as letras em ordem alfabética."
   ]
  },
  {
   "cell_type": "code",
   "execution_count": 17,
   "metadata": {},
   "outputs": [
    {
     "name": "stdout",
     "output_type": "stream",
     "text": [
      "Digite uma stringian souza gerolamo\n",
      "Você digitou a string ian souza gerolamo cem ordem alfabética os caracteres ficarão dessa maneira: \n",
      "  aaaegilmnooorsuz\n"
     ]
    }
   ],
   "source": [
    "string = input('Digite uma string')\n",
    "ordem_list = sorted(string)\n",
    "string_final = ''.join(ordem_list)\n",
    "print(f'Você digitou a string {string} cem ordem alfabética os caracteres '\n",
    "      f'ficarão dessa maneira: \\n{string_final}')"
   ]
  },
  {
   "cell_type": "markdown",
   "metadata": {},
   "source": [
    "Exercício 6: Faça um programa que pela ao usuário para digitar uma string e retorne uma outra string invertida."
   ]
  },
  {
   "cell_type": "code",
   "execution_count": 18,
   "metadata": {},
   "outputs": [
    {
     "name": "stdout",
     "output_type": "stream",
     "text": [
      "Digite uma string: Ian\n",
      "Você digitou a string \"Ian\" que invertida ficará: naI\n"
     ]
    }
   ],
   "source": [
    "string = input('Digite uma string: ')\n",
    "string_inv = string[::-1]\n",
    "\n",
    "print(f'Você digitou a string \"{string}\" que invertida ficará: {string_inv}')"
   ]
  },
  {
   "cell_type": "code",
   "execution_count": 19,
   "metadata": {},
   "outputs": [
    {
     "data": {
      "text/plain": [
       "range(0, 6)"
      ]
     },
     "execution_count": 19,
     "metadata": {},
     "output_type": "execute_result"
    }
   ],
   "source": [
    "range(6)"
   ]
  },
  {
   "cell_type": "code",
   "execution_count": 20,
   "metadata": {},
   "outputs": [],
   "source": [
    "lista4 = [i ** 3 for i in range(5)]"
   ]
  },
  {
   "cell_type": "code",
   "execution_count": 21,
   "metadata": {},
   "outputs": [
    {
     "data": {
      "text/plain": [
       "[0, 1, 8, 27, 64]"
      ]
     },
     "execution_count": 21,
     "metadata": {},
     "output_type": "execute_result"
    }
   ],
   "source": [
    "lista4"
   ]
  },
  {
   "cell_type": "code",
   "execution_count": 22,
   "metadata": {},
   "outputs": [],
   "source": [
    "string = 'Clube da aposta'"
   ]
  },
  {
   "cell_type": "code",
   "execution_count": 23,
   "metadata": {},
   "outputs": [
    {
     "data": {
      "text/plain": [
       "'o'"
      ]
     },
     "execution_count": 23,
     "metadata": {},
     "output_type": "execute_result"
    }
   ],
   "source": [
    "string[-4]"
   ]
  },
  {
   "cell_type": "code",
   "execution_count": 24,
   "metadata": {},
   "outputs": [
    {
     "data": {
      "text/plain": [
       "37"
      ]
     },
     "execution_count": 24,
     "metadata": {},
     "output_type": "execute_result"
    }
   ],
   "source": [
    " len('Apostas esportivas no Clube da Aposta') "
   ]
  },
  {
   "cell_type": "code",
   "execution_count": null,
   "metadata": {},
   "outputs": [],
   "source": [
    "Apostas esportivas no Clube da Aposta’.lower().count(‘a’)"
   ]
  }
 ],
 "metadata": {
  "hide_input": false,
  "kernelspec": {
   "display_name": "Python 3",
   "language": "python",
   "name": "python3"
  },
  "language_info": {
   "codemirror_mode": {
    "name": "ipython",
    "version": 3
   },
   "file_extension": ".py",
   "mimetype": "text/x-python",
   "name": "python",
   "nbconvert_exporter": "python",
   "pygments_lexer": "ipython3",
   "version": "3.7.6"
  },
  "toc": {
   "base_numbering": 1,
   "nav_menu": {},
   "number_sections": true,
   "sideBar": true,
   "skip_h1_title": false,
   "title_cell": "Table of Contents",
   "title_sidebar": "Contents",
   "toc_cell": false,
   "toc_position": {},
   "toc_section_display": true,
   "toc_window_display": false
  },
  "varInspector": {
   "cols": {
    "lenName": 16,
    "lenType": 16,
    "lenVar": 40
   },
   "kernels_config": {
    "python": {
     "delete_cmd_postfix": "",
     "delete_cmd_prefix": "del ",
     "library": "var_list.py",
     "varRefreshCmd": "print(var_dic_list())"
    },
    "r": {
     "delete_cmd_postfix": ") ",
     "delete_cmd_prefix": "rm(",
     "library": "var_list.r",
     "varRefreshCmd": "cat(var_dic_list()) "
    }
   },
   "types_to_exclude": [
    "module",
    "function",
    "builtin_function_or_method",
    "instance",
    "_Feature"
   ],
   "window_display": false
  }
 },
 "nbformat": 4,
 "nbformat_minor": 4
}
