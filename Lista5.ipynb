{
 "cells": [
  {
   "cell_type": "markdown",
   "metadata": {},
   "source": [
    "Exercício 1: Peça para o usuário digitar dois números, crie uma função que recebe esses dois números e utilize funções anônimas para realizar as seguintes operações: soma, subtração, multiplicação, divisão real. Essa função não deve retornar nada e mostrar o resultados das operações."
   ]
  },
  {
   "cell_type": "code",
   "execution_count": 1,
   "metadata": {},
   "outputs": [
    {
     "name": "stdout",
     "output_type": "stream",
     "text": [
      "Digite o primeiro número: 5\n",
      "Digite o segundo número: 3\n",
      "A soma dos números digitados é: 8.0\n",
      "A diferença dos números digitados é: 2.0\n",
      "O produto dos números digitados é: 15.0\n",
      "A divisão dos números digitados é: 1.67\n"
     ]
    }
   ],
   "source": [
    "def exibe (a, b):\n",
    "    soma = lambda a, b: a + b\n",
    "    subt = lambda a, b: a - b\n",
    "    mult = lambda a, b: a * b\n",
    "    divi = lambda a, b: a / b\n",
    "    print(f'A soma dos números digitados é: {round(soma(a,b),2)}')\n",
    "    print(f'A diferença dos números digitados é: {round(subt(a,b),2)}')\n",
    "    print(f'O produto dos números digitados é: {round(mult(a,b),2)}')\n",
    "    print(f'A divisão dos números digitados é: {round(divi(a,b),2)}')\n",
    "    \n",
    "num1 = float(input('Digite o primeiro número: '))\n",
    "num2 = float(input('Digite o segundo número: '))\n",
    "\n",
    "exibe(num1, num2)"
   ]
  },
  {
   "cell_type": "markdown",
   "metadata": {},
   "source": [
    "Exercício 2: Thiago armazenou os valores apostados em um determinado mês na lista abaixo. Crie uma função que calcule a média que ele apostou nesse mês. A função deve retornar o valor da média, exiba esse valor na tela para o usuário. Use depois a função filter para mostrar em ordem crescente quais valores são iguais ou estão abaixo da média e quais estão acima.\n",
    "\n",
    "apostas = [57.31, 114.57, 96.39, 112.19, 72.25, 157.87, 187.94, 57.64, 103.94, 164.91, 93.51, 137.93, 68.72, 122.63]\n"
   ]
  },
  {
   "cell_type": "code",
   "execution_count": 1,
   "metadata": {},
   "outputs": [
    {
     "name": "stdout",
     "output_type": "stream",
     "text": [
      "Thiago apostou em média nesse mês o valor de: R$110.56\n",
      "Valores abaixo ou iguais da média: [57.31, 57.64, 68.72, 72.25, 93.51, 96.39, 103.94]\n",
      "Valores acima da média: [112.19, 114.57, 122.63, 137.93, 157.87, 164.91, 187.94]\n"
     ]
    }
   ],
   "source": [
    "def media(apostas):\n",
    "    return round(sum(apostas)/len(apostas),2)\n",
    "\n",
    "apostas = [57.31, 114.57, 96.39, 112.19, 72.25, 157.87, 187.94, 57.64, 103.94, 164.91, 93.51, 137.93, 68.72, 122.63]\n",
    "m = media(apostas)\n",
    "abaixo = list(filter(lambda x: x <= m, apostas))\n",
    "acima = list(filter(lambda x: x > m, apostas))\n",
    "print(f'Thiago apostou em média nesse mês o valor de: R${m}')\n",
    "print(f'Valores abaixo ou iguais da média: {sorted(abaixo)}')\n",
    "print(f'Valores acima da média: {sorted(acima)}')\n"
   ]
  },
  {
   "cell_type": "markdown",
   "metadata": {},
   "source": [
    "Exercício 3: Thiago colocou os valores de algumas apostas em dicionários distintos. Nos quais, o mês da aposta se encontra no nome do dicionário, as chaves do dicionário são os dias do mês no qual as apostas foram realizadas, e os valores são listas contendo o valor apostado,a odd e se ele ganhou ou perdeu. Crie uma função que ajude Thiago a calcular os ganhos que ele obteve em cada mês, a função deve retornar um dicionário com os ganhos daquele mês específico. Faça uma nova função que receba uma lista com vários dicionários e junte-os em um único dicionário. Crie uma terceira função que não retorne nada, mas exiba uma mensagem na tela informando o mês e os ganhos ou perdas obtidos. \n",
    "\n",
    "jan = {\n",
    "5: [86.72, 2.37, 'Ganha'],\n",
    "14: [79.9, 1.81, 'Ganha'],\n",
    "25: [182.61, 1.67, 'Perdida']}\n",
    "\n",
    "fev = {\n",
    "3: [98.5, 1.84, 'Ganha'],\n",
    "11: [190.46, 2.02, 'Perdida'],\n",
    "27: [126.97, 2.51, 'Ganha']}   \n",
    "\n",
    "mar = {\n",
    "1: [124.31, 2.7, 'Perdida'],\n",
    "15: [156.24, 1.07, 'Ganha'],\n",
    "29: [68.81, 2.07, 'Ganha']}   \n",
    "\n",
    "abr = {\n",
    "2: [149.69, 1.64, 'Ganha'],\n",
    "12: [115.29, 1.79, 'Perdida'],\n",
    "30: [140.65, 1.39, 'Ganha']}   \n",
    "\n",
    "mai = {\n",
    "3: [139.9, 2.81, 'Ganha'],\n",
    "10: [2.77, 192.68, 'Perdida'],\n",
    "15: [1.05, 76.24, 'Perdida'],\n",
    "31: [110.78, 2.31, 'Perdida']}   "
   ]
  },
  {
   "cell_type": "code",
   "execution_count": 13,
   "metadata": {},
   "outputs": [
    {
     "name": "stdout",
     "output_type": "stream",
     "text": [
      "Thiago ganhou/perdeu R$0.92 no mês de Janeiro.\n",
      "Thiago ganhou/perdeu R$84.0 no mês de Fevereiro.\n",
      "Thiago ganhou/perdeu R$-39.75 no mês de Março.\n",
      "Thiago ganhou/perdeu R$35.37 no mês de Abril.\n",
      "Thiago ganhou/perdeu R$138.62 no mês de Maio.\n"
     ]
    }
   ],
   "source": [
    "def ganho(aposta_dict):\n",
    "    \n",
    "    lista_ganhos = []\n",
    "    ganho_dict = {}\n",
    "    mes = aposta_dict.pop('mês')\n",
    "    for value in aposta_dict.values():\n",
    "        if value[2] == 'Ganha':\n",
    "            r = value[0] * (value[1] - 1)\n",
    "            lista_ganhos.append(r)\n",
    "        else:\n",
    "            r = -value[0]\n",
    "            lista_ganhos.append(r)\n",
    "    ganho_dict[mes] = round(sum(lista_ganhos), 2)\n",
    "    lista_ganhos.clear()\n",
    "    return ganho_dict\n",
    "\n",
    "def junta(lista_dict):\n",
    "    final_dict = {}\n",
    "    for dict_ in lista_dict:\n",
    "        final_dict.update(dict_)\n",
    "    return final_dict\n",
    "\n",
    "def exibe(dic_):\n",
    "    for key, value in dic_.items():\n",
    "        print(f'Thiago ganhou/perdeu R${value} no mês de {key}.')\n",
    "    return None\n",
    "\n",
    "jan = {\n",
    "'mês': 'Janeiro',\n",
    "5: [86.72, 2.37, 'Ganha'],\n",
    "14: [79.9, 1.81, 'Ganha'],\n",
    "25: [182.61, 1.67, 'Perdida']}\n",
    "\n",
    "fev = {\n",
    "'mês': 'Fevereiro',\n",
    "3: [98.5, 1.84, 'Ganha'],\n",
    "11: [190.46, 2.02, 'Perdida'],\n",
    "27: [126.97, 2.51, 'Ganha']}   \n",
    "\n",
    "mar = {\n",
    "'mês': 'Março',\n",
    "1: [124.31, 2.7, 'Perdida'],\n",
    "15: [156.24, 1.07, 'Ganha'],\n",
    "29: [68.81, 2.07, 'Ganha']}   \n",
    "\n",
    "abr = {\n",
    "'mês': 'Abril',\n",
    "2: [149.69, 1.64, 'Ganha'],\n",
    "12: [115.29, 1.79, 'Perdida'],\n",
    "30: [140.65, 1.39, 'Ganha']}   \n",
    "\n",
    "mai = {\n",
    "'mês': 'Maio',\n",
    "3: [139.9, 2.81, 'Ganha'],\n",
    "10: [2.77, 192.68, 'Perdida'],\n",
    "15: [1.05, 76.24, 'Perdida'],\n",
    "31: [110.78, 2.31, 'Perdida']}\n",
    "\n",
    "lista_dict = [ganho(jan), ganho(fev), ganho(mar), ganho(abr), ganho(mai)]\n",
    "final_dict = junta(lista_dict)\n",
    "exibe(final_dict)"
   ]
  },
  {
   "cell_type": "markdown",
   "metadata": {},
   "source": [
    "Exercício 4: Faça agora uma função que receba o dicionário retornado pela função junta() que você criou no exercício anterior e retorne o valor total ganho ou perdido por Thiago no período. Exiba uma mensagem na tela informando esse valor.\n"
   ]
  },
  {
   "cell_type": "code",
   "execution_count": 15,
   "metadata": {},
   "outputs": [
    {
     "name": "stdout",
     "output_type": "stream",
     "text": [
      "Nesse período Thiago ganhou ou perdeu: R$219.16\n"
     ]
    }
   ],
   "source": [
    "def total(dict_):\n",
    "    total = 0\n",
    "    for value in dict_.values():\n",
    "        total += value\n",
    "    return total\n",
    "final = total(final_dict)\n",
    "print(f'Nesse período Thiago ganhou ou perdeu: R${final:.2f}')\n",
    "        "
   ]
  },
  {
   "cell_type": "markdown",
   "metadata": {},
   "source": [
    "Exercício 5: Alguns amigos colocaram as apostas realizadas, os valores ganhos/perdidos e as odds nas quais realizaram as apostas em dicionários, como apresentado abaixo. Crie uma função que calcule o ROI (lucro/investimento * 100) de cada um, a função deve retornar um dicionário com o nome do apostador como chave e o valor sendo o ROI. Crie uma segunda função para verificar qual deles obteve o melhor resultado, a função deve receber uma lista de dicionários e retornar o nome de quem tiver o maior ROI. Uma terceira função deve receber uma lista de dicionários e exibir o resultado para o usuário.\n",
    "\n",
    "thiago = { 'nome': 'Thiago', 'valor_apostas': [100.08, 199.09, 82.24, 79.59, 191.92, 112.92], 'ganhos_perdas': [133.11, 55.75, -82.24, 151.22, 320.51, -122.82], 'odds': [2.33, 1.28, 2.91, 2.9, 2.67, 1.98]}\n",
    "\n",
    "ana = { 'nome': 'Ana', 'valor_apostas': [50.6, 151.31, 103.4, 195.13, 127.1, 98.72], 'ganhos_perdas': [-50.6, 160.39, -103.4, -195.13, 19.01, -98.72], 'odds': [1.93, 2.06, 2.35, 1.75, 1.15, 2.72]}\n",
    "\n",
    "otavio = { 'nome': 'Otavio', 'valor_apostas': [195.99, 109.54, 196.79, 85.23, 189.16, 61.94], 'ganhos_perdas': [-195.99, 128.16, -196.79, 55.40, 219.43, 61.94], 'odds': [2.18, 2.17, 1.58, 1.65, 2.16, 1.07]}"
   ]
  },
  {
   "cell_type": "code",
   "execution_count": 20,
   "metadata": {},
   "outputs": [
    {
     "name": "stdout",
     "output_type": "stream",
     "text": [
      "Nome e ROI do apostador 1: {'Thiago': 59.48}\n",
      "O apostador com maior ROI foi: Thiago\n",
      "Nome e ROI do apostador 2: {'Ana': -36.96}\n",
      "O apostador com maior ROI foi: Thiago\n",
      "Nome e ROI do apostador 3: {'Otavio': 8.6}\n",
      "O apostador com maior ROI foi: Thiago\n"
     ]
    }
   ],
   "source": [
    "def roi(dict_):\n",
    "    roi = dict()\n",
    "    roi[dict_['nome']] = round((sum(dict_['ganhos_perdas']) / sum(dict_['valor_apostas'])) * 100, 2)\n",
    "    return roi\n",
    "\n",
    "def max_roi(lista_dict):\n",
    "    lista_roi = [list(dict_.values())[0] for dict_ in lista_dict]\n",
    "    for dict_ in lista_dict:\n",
    "        if list(dict_.values())[0] == max(lista_roi):\n",
    "            return list(dict_.keys())[0]\n",
    "        else:\n",
    "            pass\n",
    "def exibe(lista_dict):\n",
    "    i = 1\n",
    "    for dict_ in lista_dict:\n",
    "        print(f'Nome e ROI do apostador {i}: {dict_}')\n",
    "        i += 1\n",
    "        roi_max = max_roi(lista_dict)\n",
    "        print(f'O apostador com maior ROI foi: {roi_max}')\n",
    "        \n",
    "thiago = {\n",
    "'nome': 'Thiago',\n",
    "'valor_apostas': [100.08, 199.09, 82.24, 79.59, 191.92, 112.92],\n",
    "'ganhos_perdas': [133.11, 55.75, -82.24, 151.22, 320.51, -122.82],\n",
    "'odds': [2.33, 1.28, 2.91, 2.9, 2.67, 1.98]}\n",
    "ana = {\n",
    "'nome': 'Ana',\n",
    "'valor_apostas': [50.6, 151.31, 103.4, 195.13, 127.1, 98.72],\n",
    "'ganhos_perdas': [-50.6, 160.39, -103.4, -195.13, 19.01, -98.72],\n",
    "'odds': [1.93, 2.06, 2.35, 1.75, 1.15, 2.72]}    \n",
    "otavio = {\n",
    "'nome': 'Otavio',\n",
    "'valor_apostas': [195.99, 109.54, 196.79, 85.23, 189.16, 61.94],\n",
    "'ganhos_perdas': [-195.99, 128.16, -196.79, 55.40, 219.43, 61.94],\n",
    "'odds': [2.18, 2.17, 1.58, 1.65, 2.16, 1.07]}   \n",
    "\n",
    "lista_dict = [roi(thiago), roi(ana), roi(otavio)]\n",
    "exibe(lista_dict)"
   ]
  },
  {
   "cell_type": "code",
   "execution_count": null,
   "metadata": {},
   "outputs": [],
   "source": []
  }
 ],
 "metadata": {
  "hide_input": false,
  "kernelspec": {
   "display_name": "Python 3",
   "language": "python",
   "name": "python3"
  },
  "language_info": {
   "codemirror_mode": {
    "name": "ipython",
    "version": 3
   },
   "file_extension": ".py",
   "mimetype": "text/x-python",
   "name": "python",
   "nbconvert_exporter": "python",
   "pygments_lexer": "ipython3",
   "version": "3.7.6"
  },
  "toc": {
   "base_numbering": 1,
   "nav_menu": {},
   "number_sections": true,
   "sideBar": true,
   "skip_h1_title": false,
   "title_cell": "Table of Contents",
   "title_sidebar": "Contents",
   "toc_cell": false,
   "toc_position": {},
   "toc_section_display": true,
   "toc_window_display": false
  },
  "varInspector": {
   "cols": {
    "lenName": 16,
    "lenType": 16,
    "lenVar": 40
   },
   "kernels_config": {
    "python": {
     "delete_cmd_postfix": "",
     "delete_cmd_prefix": "del ",
     "library": "var_list.py",
     "varRefreshCmd": "print(var_dic_list())"
    },
    "r": {
     "delete_cmd_postfix": ") ",
     "delete_cmd_prefix": "rm(",
     "library": "var_list.r",
     "varRefreshCmd": "cat(var_dic_list()) "
    }
   },
   "types_to_exclude": [
    "module",
    "function",
    "builtin_function_or_method",
    "instance",
    "_Feature"
   ],
   "window_display": false
  }
 },
 "nbformat": 4,
 "nbformat_minor": 4
}
