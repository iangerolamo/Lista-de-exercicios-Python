{
 "cells": [
  {
   "cell_type": "markdown",
   "metadata": {},
   "source": [
    "Exercício 1: Calculadora Avançada - Faça um programa que mostre para o usuário diversas opções e de acordo com o número de opção escolhida é realizada uma operação matemática com os valores de entrada informados pelo usuário. Caso o usuário digite uma opção inválida exiba uma mensagem informando isso."
   ]
  },
  {
   "cell_type": "code",
   "execution_count": null,
   "metadata": {},
   "outputs": [],
   "source": [
    "print('1 - Adição\\n2 - Subtração\\n3 - Multiplicação\\n4 - Divisão Real')\n",
    "print('5 - Exponenciação\\n6 - Divisão Inteira\\n7 - Resto da Divisão')\n",
    "o = int(input('Digite o número de alguma opção: '))\n",
    "\n",
    "if o == 1:\n",
    "    num1 = float(input('Digite o primeiro número: '))\n",
    "    num2 = float(input('Digite o primeiro número: '))\n",
    "    soma = num1 + num2\n",
    "    print('A soma entre' +str(num1) + 'e' +str(num2) + ' é igual a ' +str(soma)) \n",
    "elif o == 2:\n",
    "    num1 = float(input('Digite o primeiro número: '))\n",
    "    num2 = float(input('Digite o primeiro número: '))\n",
    "    sub = num1 - num2\n",
    "    print('A subtração entre' +str(num1) + 'e' +str(num2) + ' é igual a ' +str(sub))    \n",
    "elif o == 3:\n",
    "    num1 = float(input('Digite o primeiro número: '))\n",
    "    num2 = float(input('Digite o primeiro número: '))\n",
    "    mult = num1 * num2\n",
    "    print('A multiplicação entre' +str(num1) + 'e' +str(num2) + ' é igual a ' +str(mult))    \n",
    "elif o == 4:\n",
    "    num1 = float(input('Digite o primeiro número: '))\n",
    "    num2 = float(input('Digite o primeiro número: '))\n",
    "    div_real = num1 / num2\n",
    "    print('A divisão real entre' +str(num1) + 'e' +str(num2) + ' é igual a ' +str(div_real))   \n",
    "elif o == 5:\n",
    "    num1 = float(input('Digite o primeiro número: '))\n",
    "    num2 = float(input('Digite o primeiro número: '))\n",
    "    exp = num1 ** num2\n",
    "    print('A exponenciação entre' +str(num1) + 'e' +str(num2) + ' é igual a ' +str(exp))\n",
    "elif o == 6:\n",
    "    num1 = float(input('Digite o primeiro número: '))\n",
    "    num2 = float(input('Digite o primeiro número: '))\n",
    "    div_inteira = num1 // num2\n",
    "    print('A divisão inteira entre' +str(num1) + 'e' +str(num2) + ' é igual a ' +str(div_inteira))\n",
    "elif o == 7:\n",
    "    num1 = float(input('Digite o primeiro número: '))\n",
    "    num2 = float(input('Digite o primeiro número: '))\n",
    "    resto = num1 % num2\n",
    "    print(f'O resto da divisão entre {num1} e {num2} é igual a {resto}')\n",
    "else:\n",
    "    print('Você digitou uma opção inválida, por favor tente novamente')"
   ]
  },
  {
   "cell_type": "markdown",
   "metadata": {},
   "source": [
    "Exercício 2: Thiago está estudando realizar uma aposta no jogo Newcastle x Crystal Palace. As odds do jogo estão na tabela abaixo. Faça um programa que calcule as probabilidades para cada um dos possíveis resultados e exiba uma mensagem indicando qual é o evento e se ele tem probabilidade de ocorrência maior do que 35%."
   ]
  },
  {
   "cell_type": "code",
   "execution_count": 18,
   "metadata": {},
   "outputs": [
    {
     "name": "stdout",
     "output_type": "stream",
     "text": [
      "A probabilidade da vitória do Newcastle é maior do que 35%\n"
     ]
    }
   ],
   "source": [
    "prob_nc = 1 / 2.4\n",
    "prob_ep = 1 / 3\n",
    "prob_cp = 1 / 2.75\n",
    "\n",
    "if prob_nc > 0.35:\n",
    "    print('A probabilidade da vitória do Newcastle é maior do que 35%')\n",
    "elif prob_ep > 0.35:\n",
    "    print('A probabilidade do empate é maior do que 35%')\n",
    "elif prob_cp > 0.35:\n",
    "    print('A probabilidade da vitória do Crystal Palace é maior do que 35%')\n",
    "else:\n",
    "    print('Nenhum evento tem probabilidade de ocorrência maior do que 35%')"
   ]
  },
  {
   "cell_type": "markdown",
   "metadata": {},
   "source": [
    "Exercício 3: Thiago apostou R$ 53,50 a favor do mandante no jogo Newcastle x Crystal Palace, conforme as odds apresentadas no exercício anterior. Faça um programa que calcule o valor esperado para essa aposta e mostre mensagens distintas caso ele seja positivo ou negativo"
   ]
  },
  {
   "cell_type": "code",
   "execution_count": 19,
   "metadata": {},
   "outputs": [
    {
     "name": "stdout",
     "output_type": "stream",
     "text": [
      "Essa aposta tem valor esperado negativo de: R$-6.08\n"
     ]
    }
   ],
   "source": [
    "odd_apostada = 2.4\n",
    "valor = 53.50\n",
    "montante = (odd_apostada - 1) * valor\n",
    "ve = (prob_nc * montante) - ((prob_ep + prob_cp) * valor)\n",
    "\n",
    "if ve > 0:\n",
    "    print('Essa aposta tem valor esperado positivo de: ' +str(round(ve,2)))\n",
    "elif ve == 0:\n",
    "    print('Essa aposta tem valor esperado nulo')\n",
    "else:\n",
    "    print('Essa aposta tem valor esperado negativo de: R$' +str(round(ve,2)))"
   ]
  },
  {
   "cell_type": "markdown",
   "metadata": {},
   "source": [
    "Exercício 4: Solicite ao usuário a digitar o nome dele e verifique se as letras a ou j estão presentes. Em caso positivo, avalie se o nome possui as letras ou apenas uma delas."
   ]
  },
  {
   "cell_type": "code",
   "execution_count": 23,
   "metadata": {},
   "outputs": [
    {
     "name": "stdout",
     "output_type": "stream",
     "text": [
      "Digite o seu nome: Ian\n",
      "O seu nome possui a letra \"a\". \n"
     ]
    }
   ],
   "source": [
    "nome = input('Digite o seu nome: ')\n",
    "if ('a' in nome) or ('j' in nome):\n",
    "    if ('a' in nome) and ('j' in nome):\n",
    "        print('O seu nome possui as letras \"a\" e \"j\". ')\n",
    "    elif ('a' in nome):\n",
    "        print('O seu nome possui a letra \"a\". ')\n",
    "    else:\n",
    "        print('O seu nome possui a letra \"j\". ')\n",
    "else:\n",
    "    print('O seu nome não possui a letra \"a\" ou a letra \"j\"!')"
   ]
  }
 ],
 "metadata": {
  "hide_input": false,
  "kernelspec": {
   "display_name": "Python 3",
   "language": "python",
   "name": "python3"
  },
  "language_info": {
   "codemirror_mode": {
    "name": "ipython",
    "version": 3
   },
   "file_extension": ".py",
   "mimetype": "text/x-python",
   "name": "python",
   "nbconvert_exporter": "python",
   "pygments_lexer": "ipython3",
   "version": "3.7.6"
  },
  "toc": {
   "base_numbering": 1,
   "nav_menu": {},
   "number_sections": true,
   "sideBar": true,
   "skip_h1_title": false,
   "title_cell": "Table of Contents",
   "title_sidebar": "Contents",
   "toc_cell": false,
   "toc_position": {},
   "toc_section_display": true,
   "toc_window_display": false
  },
  "varInspector": {
   "cols": {
    "lenName": 16,
    "lenType": 16,
    "lenVar": 40
   },
   "kernels_config": {
    "python": {
     "delete_cmd_postfix": "",
     "delete_cmd_prefix": "del ",
     "library": "var_list.py",
     "varRefreshCmd": "print(var_dic_list())"
    },
    "r": {
     "delete_cmd_postfix": ") ",
     "delete_cmd_prefix": "rm(",
     "library": "var_list.r",
     "varRefreshCmd": "cat(var_dic_list()) "
    }
   },
   "types_to_exclude": [
    "module",
    "function",
    "builtin_function_or_method",
    "instance",
    "_Feature"
   ],
   "window_display": false
  }
 },
 "nbformat": 4,
 "nbformat_minor": 4
}
