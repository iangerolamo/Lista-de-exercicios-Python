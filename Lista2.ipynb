{
 "cells": [
  {
   "cell_type": "markdown",
   "metadata": {},
   "source": [
    "Exercício 1: Faça um programa  que mostre para o usuário diversas opções e de acordo com o número da opção escolhida é realizada uma operação matemática com os valores de entrada informados pelo usuário. O programa deve rodar continuamente até que o usuário digite uma opção para sair. Caso o usuário digite uma opção inválida exiba uma mensagem informando isso. "
   ]
  },
  {
   "cell_type": "code",
   "execution_count": null,
   "metadata": {},
   "outputs": [],
   "source": [
    "sair = True\n",
    "\n",
    "while sair:\n",
    "    print('*=' * 20)\n",
    "    print('1 - Adição\\n2 - Subtração\\n3 - Multiplicação\\n4 - Divisão Real')\n",
    "    print('5 - Exponenciação\\n6 - Divisão Inteira\\n7 - Resto da Divisão\\n8 - Sair')\n",
    "    o = int(input('Digite o número de alguma opção: '))\n",
    "\n",
    "    if o == 1:\n",
    "        num1 = float(input('Digite o primeiro número: '))\n",
    "        num2 = float(input('Digite o primeiro número: '))\n",
    "        soma = num1 + num2\n",
    "        print('A soma entre' +str(num1) + 'e' +str(num2) + ' é igual a ' +str(soma)) \n",
    "    elif o == 2:\n",
    "        num1 = float(input('Digite o primeiro número: '))\n",
    "        num2 = float(input('Digite o primeiro número: '))\n",
    "        sub = num1 - num2\n",
    "        print('A subtração entre' +str(num1) + 'e' +str(num2) + ' é igual a ' +str(sub))    \n",
    "    elif o == 3:\n",
    "        num1 = float(input('Digite o primeiro número: '))\n",
    "        num2 = float(input('Digite o primeiro número: '))\n",
    "        mult = num1 * num2\n",
    "        print('A multiplicação entre' +str(num1) + 'e' +str(num2) + ' é igual a ' +str(mult))    \n",
    "    elif o == 4:\n",
    "        num1 = float(input('Digite o primeiro número: '))\n",
    "        num2 = float(input('Digite o primeiro número: '))\n",
    "        div_real = num1 / num2\n",
    "        print('A divisão real entre' +str(num1) + 'e' +str(num2) + ' é igual a ' +str(div_real))   \n",
    "    elif o == 5:\n",
    "        num1 = float(input('Digite o primeiro número: '))\n",
    "        num2 = float(input('Digite o primeiro número: '))\n",
    "        exp = num1 ** num2\n",
    "        print('A exponenciação entre' +str(num1) + 'e' +str(num2) + ' é igual a ' +str(exp))\n",
    "    elif o == 6:\n",
    "        num1 = float(input('Digite o primeiro número: '))\n",
    "        num2 = float(input('Digite o primeiro número: '))\n",
    "        div_inteira = num1 // num2\n",
    "        print('A divisão inteira entre' +str(num1) + 'e' +str(num2) + ' é igual a ' +str(div_inteira))\n",
    "    elif o == 7:\n",
    "        num1 = float(input('Digite o primeiro número: '))\n",
    "        num2 = float(input('Digite o primeiro número: '))\n",
    "        resto = num1 % num2\n",
    "        print(f'O resto da divisão entre {num1} e {num2} é igual a {resto}')\n",
    "    elif o == 8:\n",
    "        sair = False\n",
    "    else:\n",
    "        print('Você digitou uma opção inválida, por favor tente novamente')"
   ]
  },
  {
   "cell_type": "markdown",
   "metadata": {},
   "source": [
    "Exercício 2: Coloque as duas listas abaixo em ordenadas de maneira crescente e decrescente  e exiba o resultado na tela.\n",
    "\tLista1 = ['Cruzeiro',  'Palmeiras', 'Flamengo', 'Coritiba', 'Atlético', 'São Paulo', 'Guarani']\n",
    "\tLista2 = [2, 6, 0, 1.4, 5.7, 2.3, 2.13, 5, -2, 4.2]"
   ]
  },
  {
   "cell_type": "code",
   "execution_count": 4,
   "metadata": {},
   "outputs": [
    {
     "name": "stdout",
     "output_type": "stream",
     "text": [
      "Lista 1 em ordem crescente:  ['Atlético', 'Coritiba', 'Cruzeiro', 'Flamengo', 'Guarani', 'Palmeiras', 'São Paulo']\n",
      "Lista 1 em ordem decrescente:  ['São Paulo', 'Palmeiras', 'Guarani', 'Flamengo', 'Cruzeiro', 'Coritiba', 'Atlético']\n",
      "Lista 2 em ordem crescente:  [-2, 0, 1.4, 2, 2.13, 2.3, 4.2, 5, 5.7, 6]\n",
      "Lista 2 em ordem decrescente:  [6, 5.7, 5, 4.2, 2.3, 2.13, 2, 1.4, 0, -2]\n"
     ]
    }
   ],
   "source": [
    "lista1 = ['Cruzeiro', 'Palmeiras', 'Flamengo', 'Coritiba', 'Atlético', 'São Paulo', 'Guarani']\n",
    "lista2 = [2, 6, 0, 1.4, 5.7, 2.3, 2.13, 5, -2, 4.2]\n",
    "lista1.sort() #A função sort() deixa em ordem crescente\n",
    "print('Lista 1 em ordem crescente: ', lista1)\n",
    "lista1.sort(reverse=True)\n",
    "print('Lista 1 em ordem decrescente: ', lista1)\n",
    "lista2.sort()\n",
    "print('Lista 2 em ordem crescente: ', lista2)\n",
    "lista2.sort(reverse=True)\n",
    "print('Lista 2 em ordem decrescente: ', lista2)"
   ]
  },
  {
   "cell_type": "markdown",
   "metadata": {},
   "source": [
    "Exercício 3: Dada as listas abaixo:\n",
    "    lista_times = ['São Paulo', 'Cruzeiro', 'Atlético', 'Flamengo', 'Palmeiras']\n",
    "    lista_odds = [2.4, 3.1, 1.21, 1.18, 2.3]\n",
    "    Faça um programa que gere uma nova lista com elementos intercalados entre a lista_times e      a lista_odds. Exiba na tela os elementos da nova linha utilizando a seguinte formatação:\n",
    "    Time: Nome_do_Time & Odd: Valor_da_Odd"
   ]
  },
  {
   "cell_type": "code",
   "execution_count": null,
   "metadata": {},
   "outputs": [],
   "source": [
    "lista_times = ['São Paulo', 'Cruzeiro', 'Atlético', 'Flamengo', 'Palmeiras']\n",
    "lista_odds = [2.4, 3.1, 1.21, 1.18, 2.3]\n",
    "lista_final = [] \n",
    "\n",
    "for time in lista_times:\n",
    "    lista_final.append(time) #A função append, adiciona qualquer valor completo\n",
    "    for i in range(len(lista_odds)):\n",
    "        item = lista_odds.pop(i)\n",
    "        lista_final.append(item)\n",
    "        break\n",
    "        \n",
    "print (lista_final)\n",
    "\n",
    "for i in range(0, len(lista_final), 2):\n",
    "    print(f'Time: {lista_final[i]} & Odd: {lista_final[i+1]}')"
   ]
  },
  {
   "cell_type": "markdown",
   "metadata": {},
   "source": [
    "Exercício 4: Thiago está aprendendo a programar em Python e a utilizar essa poderosa ferramente nos cálculos de suas apostas. Ele salvou em listas distintas os valores das apostas, odds e se ganhou ou perdeu, cada elemento de mesmo indice entre as listas representa a mesma aposta realizada"
   ]
  },
  {
   "cell_type": "code",
   "execution_count": 19,
   "metadata": {},
   "outputs": [],
   "source": [
    "valor_apostas = [46.16, 54.07, 67.02, 49.72, 21.18, 10.21, 99.64, 5.11, 60.92, 91.86, 72.45, 31.34, 74.32]\n",
    "\n",
    "odds = [1.02, 1.19, 2.44, 3.71, 3.68, 1.52, 1.83, 2.19, 1.71, 1.76, 2.38, 1.46, 3.56]\n",
    "\n",
    "ganha_perdida = ['Ganha', 'Ganha', 'Perdida', 'Perdida', 'Ganha', 'Perdida', 'Perdida', 'Ganha', 'Ganha', 'Ganha', 'Perdida', 'Perdida', 'Ganha']"
   ]
  },
  {
   "cell_type": "code",
   "execution_count": 20,
   "metadata": {},
   "outputs": [],
   "source": [
    "lucro_prejuizo = []\n",
    "\n",
    "for i in range(len(ganha_perdida)):\n",
    "    if ganha_perdida[i] == 'Ganha':\n",
    "        valor = valor_apostas[i] * (odds[i] -1)\n",
    "        lucro_prejuizo.append(round(valor,2))\n",
    "    else:\n",
    "        lucro_prejuizo.append(-valor_apostas[i])"
   ]
  },
  {
   "cell_type": "code",
   "execution_count": 23,
   "metadata": {},
   "outputs": [
    {
     "name": "stdout",
     "output_type": "stream",
     "text": [
      "Lista com lucros e prejuízos de tThiago:  [0.92, 10.27, -67.02, -49.72, 56.76, -10.21, -99.64, 6.08, 43.25, 69.81, -72.45, -31.34, 190.26]\n",
      "\n",
      "O valor máximo apostado por Thiago foi: R$99.64\n",
      "O valor mínimo apostado por Thiago foi: R$5.11\n",
      "O lucro máximo ganho por Thiago foi: R$190.26\n",
      "O projuizo máximo perdido por Thiago foi: R$-99.64\n",
      "\n",
      "Nesse mês Thiago obteve um ROI de: 0.07%\n",
      "46.97000000000003\n",
      "684.0\n"
     ]
    }
   ],
   "source": [
    "print('Lista com lucros e prejuízos de tThiago: ', lucro_prejuizo)\n",
    "print('\\nO valor máximo apostado por Thiago foi: R$' +str(max(valor_apostas)))\n",
    "print('O valor mínimo apostado por Thiago foi: R$' +str(min(valor_apostas)))\n",
    "print('O lucro máximo ganho por Thiago foi: R$' +str(max(lucro_prejuizo)))\n",
    "print('O projuizo máximo perdido por Thiago foi: R$'+str(min(lucro_prejuizo)) +'\\n')\n",
    "total_lucro = sum(lucro_prejuizo)\n",
    "total_aposta = sum(valor_apostas)\n",
    "ROI = (total_lucro / total_aposta)\n",
    "print('Nesse mês Thiago obteve um ROI de: ' +str(round(ROI,2)) +'%')\n",
    "print(total_lucro)\n",
    "print(total_aposta)"
   ]
  },
  {
   "cell_type": "code",
   "execution_count": null,
   "metadata": {},
   "outputs": [],
   "source": []
  }
 ],
 "metadata": {
  "hide_input": false,
  "kernelspec": {
   "display_name": "Python 3",
   "language": "python",
   "name": "python3"
  },
  "language_info": {
   "codemirror_mode": {
    "name": "ipython",
    "version": 3
   },
   "file_extension": ".py",
   "mimetype": "text/x-python",
   "name": "python",
   "nbconvert_exporter": "python",
   "pygments_lexer": "ipython3",
   "version": "3.7.6"
  },
  "toc": {
   "base_numbering": 1,
   "nav_menu": {},
   "number_sections": true,
   "sideBar": true,
   "skip_h1_title": false,
   "title_cell": "Table of Contents",
   "title_sidebar": "Contents",
   "toc_cell": false,
   "toc_position": {},
   "toc_section_display": true,
   "toc_window_display": false
  },
  "varInspector": {
   "cols": {
    "lenName": 16,
    "lenType": 16,
    "lenVar": 40
   },
   "kernels_config": {
    "python": {
     "delete_cmd_postfix": "",
     "delete_cmd_prefix": "del ",
     "library": "var_list.py",
     "varRefreshCmd": "print(var_dic_list())"
    },
    "r": {
     "delete_cmd_postfix": ") ",
     "delete_cmd_prefix": "rm(",
     "library": "var_list.r",
     "varRefreshCmd": "cat(var_dic_list()) "
    }
   },
   "types_to_exclude": [
    "module",
    "function",
    "builtin_function_or_method",
    "instance",
    "_Feature"
   ],
   "window_display": false
  }
 },
 "nbformat": 4,
 "nbformat_minor": 4
}
