{
 "cells": [
  {
   "cell_type": "markdown",
   "metadata": {},
   "source": [
    "Exercício 1: Faça um programa que a partir das duas listas abaixo crie um dicionário no qual as chaves sejam nomes de times e as odds sejam os valores correspondentes. Exiba na tela o dicionário criado. "
   ]
  },
  {
   "cell_type": "code",
   "execution_count": 3,
   "metadata": {},
   "outputs": [
    {
     "name": "stdout",
     "output_type": "stream",
     "text": [
      "{'Real Madrid': 1.5, 'Barcelona': 1.89, 'Chelsea': 2.4, 'Arsenal': 2.6, 'Liverpool': 1.4, 'Juventus': 2.1, 'Milan': 1.7}\n",
      "\n",
      "\n",
      "Real Madrid: 1.50\n",
      "Barcelona: 1.89\n",
      "Chelsea: 2.40\n",
      "Arsenal: 2.60\n",
      "Liverpool: 1.40\n",
      "Juventus: 2.10\n",
      "Milan: 1.70\n"
     ]
    }
   ],
   "source": [
    "lista_times = ['Real Madrid', 'Barcelona', 'Chelsea', 'Arsenal', 'Liverpool', 'Juventus', 'Milan']\n",
    "lista_odds = [1.5, 1.89, 2.4, 2.6, 1.4, 2.1, 1.7]\n",
    "\n",
    "times_dict = {}\n",
    "for i in range(len(lista_times)):\n",
    "    for i in range(len(lista_odds)):\n",
    "        times_dict[lista_times[i]] = lista_odds[i]\n",
    "print(times_dict)\n",
    "print('\\n')\n",
    "for k, v in times_dict.items():\n",
    "    print(f'{k}: {v:.2f}')"
   ]
  },
  {
   "cell_type": "markdown",
   "metadata": {},
   "source": [
    "Exercício 2: Thiago colocou os valores de algumas apostas em dicionários distintos. Nos quais, o mês da aposta se encontra no nome do dicionário, as chaves do dicionário são os dias do mês no qual as apostas foram realizadas, e os valores são lista contendo o valor apostado, a odd e se ele ganhou ou perdeu. Faça um programa que agregue todos eles em um mesmo dicionário.\n",
    "\n",
    "jan = {\n",
    "5: [86.72, 2.37, 'Ganha'],\n",
    "14: [79.9, 1.81, 'Ganha'],\n",
    "25: [182.61, 1.67, 'Perdida']}\n",
    "\n",
    "fev = {\n",
    "3: [98.5, 1.84, 'Ganha'],\n",
    "11: [190.46, 2.02, 'Perdida'],\n",
    "27: [126.97, 2.51, 'Ganha']}   \n",
    "\n",
    "mar = {\n",
    "1: [124.31, 2.7, 'Perdida'],\n",
    "15: [156.24, 1.07, 'Ganha'],\n",
    "29: [68.81, 2.07, 'Ganha']}   \n",
    "\n",
    "abr = {\n",
    "2: [149.69, 1.64, 'Ganha'],\n",
    "12: [115.29, 1.79, 'Perdida'],\n",
    "30: [140.65, 1.39, 'Ganha']}   \n",
    "\n",
    "mar = {\n",
    "3: [139.9, 2.81, 'Ganha'],\n",
    "10: [2.77, 192.68, 'Perdida'],\n",
    "15: [1.05, 76.24, 'Perdida']\n",
    "31: [110.78, 2.31, 'Perdida']}   "
   ]
  },
  {
   "cell_type": "code",
   "execution_count": 8,
   "metadata": {},
   "outputs": [],
   "source": [
    "jan = {\n",
    "5: [86.72, 2.37, 'Ganha'],\n",
    "14: [79.9, 1.81, 'Ganha'],\n",
    "25: [182.61, 1.67, 'Perdida']}\n",
    "\n",
    "fev = {\n",
    "3: [98.5, 1.84, 'Ganha'],\n",
    "11: [190.46, 2.02, 'Perdida'],\n",
    "27: [126.97, 2.51, 'Ganha']}   \n",
    "\n",
    "mar = {\n",
    "1: [124.31, 2.7, 'Perdida'],\n",
    "15: [156.24, 1.07, 'Ganha'],\n",
    "29: [68.81, 2.07, 'Ganha']}   \n",
    "\n",
    "abr = {\n",
    "2: [149.69, 1.64, 'Ganha'],\n",
    "12: [115.29, 1.79, 'Perdida'],\n",
    "30: [140.65, 1.39, 'Ganha']}   \n",
    "\n",
    "mai = {\n",
    "3: [139.9, 2.81, 'Ganha'],\n",
    "10: [2.77, 192.68, 'Perdida'],\n",
    "15: [1.05, 76.24, 'Perdida'],\n",
    "31: [110.78, 2.31, 'Perdida']}   \n"
   ]
  },
  {
   "cell_type": "code",
   "execution_count": 10,
   "metadata": {},
   "outputs": [
    {
     "data": {
      "text/plain": [
       "{5: [86.72, 2.37, 'Ganha'],\n",
       " 14: [79.9, 1.81, 'Ganha'],\n",
       " 25: [182.61, 1.67, 'Perdida'],\n",
       " 3: [139.9, 2.81, 'Ganha'],\n",
       " 11: [190.46, 2.02, 'Perdida'],\n",
       " 27: [126.97, 2.51, 'Ganha'],\n",
       " 2: [149.69, 1.64, 'Ganha'],\n",
       " 12: [115.29, 1.79, 'Perdida'],\n",
       " 30: [140.65, 1.39, 'Ganha'],\n",
       " 1: [124.31, 2.7, 'Perdida'],\n",
       " 15: [1.05, 76.24, 'Perdida'],\n",
       " 29: [68.81, 2.07, 'Ganha'],\n",
       " 10: [2.77, 192.68, 'Perdida'],\n",
       " 31: [110.78, 2.31, 'Perdida']}"
      ]
     },
     "execution_count": 10,
     "metadata": {},
     "output_type": "execute_result"
    }
   ],
   "source": [
    "final_dict = {}\n",
    "lista_dict = [jan, fev, abr, mar, mai]\n",
    "for dict_ in lista_dict:\n",
    "    final_dict.update(dict_)\n",
    "final_dict"
   ]
  },
  {
   "cell_type": "markdown",
   "metadata": {},
   "source": [
    "Exercício 3: Ajude o Thiago a calcular os ganhos ou perdas que teve em cada mês . Utilize os dicionários fornecidos no enunciado do exercício anterior.\n",
    "Exiba a resposta na tela no formato dicionário para o usuário. "
   ]
  },
  {
   "cell_type": "code",
   "execution_count": 6,
   "metadata": {},
   "outputs": [
    {
     "name": "stdout",
     "output_type": "stream",
     "text": [
      "{'Mês 1': 0.92, 'Mês 2': 84.0, 'Mês 3': -39.75, 'Mês 4': 35.37, 'Mês 5': 138.62}\n"
     ]
    }
   ],
   "source": [
    "jan = {\n",
    "5: [86.72, 2.37, 'Ganha'],\n",
    "14: [79.9, 1.81, 'Ganha'],\n",
    "25: [182.61, 1.67, 'Perdida']}\n",
    "\n",
    "fev = {\n",
    "3: [98.5, 1.84, 'Ganha'],\n",
    "11: [190.46, 2.02, 'Perdida'],\n",
    "27: [126.97, 2.51, 'Ganha']}   \n",
    "\n",
    "mar = {\n",
    "1: [124.31, 2.7, 'Perdida'],\n",
    "15: [156.24, 1.07, 'Ganha'],\n",
    "29: [68.81, 2.07, 'Ganha']}   \n",
    "\n",
    "abr = {\n",
    "2: [149.69, 1.64, 'Ganha'],\n",
    "12: [115.29, 1.79, 'Perdida'],\n",
    "30: [140.65, 1.39, 'Ganha']}   \n",
    "\n",
    "mai = {\n",
    "3: [139.9, 2.81, 'Ganha'],\n",
    "10: [2.77, 192.68, 'Perdida'],\n",
    "15: [1.05, 76.24, 'Perdida'],\n",
    "31: [110.78, 2.31, 'Perdida']}  \n",
    "\n",
    "lista_ganhos = list()\n",
    "lista_dict = [jan, fev, mar, abr, mai]\n",
    "i = 1\n",
    "ganho_dict = dict()\n",
    "for dict_ in lista_dict:\n",
    "    for value in dict_.values():\n",
    "        if value[2] == 'Ganha':\n",
    "            r = value[0] * (value[1] - 1)\n",
    "            lista_ganhos.append(r)\n",
    "        else:\n",
    "            r = -value[0]\n",
    "            lista_ganhos.append(r)\n",
    "    ganho_dict[f'Mês {i}'] = round(sum(lista_ganhos),2)\n",
    "    lista_ganhos.clear()\n",
    "    i += 1\n",
    "print(ganho_dict)"
   ]
  },
  {
   "cell_type": "markdown",
   "metadata": {},
   "source": [
    "Exercício 4: Utilizando o dicionário encontrado como resposta no exercício anterior, calcule o valor total que Thiago ganhou ou perdeu em suas apostas. Exiba uma frase e o valor na tela."
   ]
  },
  {
   "cell_type": "code",
   "execution_count": 8,
   "metadata": {},
   "outputs": [
    {
     "name": "stdout",
     "output_type": "stream",
     "text": [
      "Nesse período Thiago ganhou ou perdeu : R$219.16\n"
     ]
    }
   ],
   "source": [
    "ganho_dict = {'Mês 1': 0.92, 'Mês 2': 84.0, 'Mês 3': -39.75, 'Mês 4': 35.37, 'Mês 5': 138.62}\n",
    "\n",
    "final = 0\n",
    "for value in ganho_dict.values():\n",
    "    final += value\n",
    "print(f'Nesse período Thiago ganhou ou perdeu : R${final:.2f}')"
   ]
  },
  {
   "cell_type": "markdown",
   "metadata": {},
   "source": [
    "Exercício 5: Alguns amigos colocaram as apostas realizadas, os valores ganhos/perdidos e as odds nas quais realizaram as apostas em dicionários, como apresentado abaixo. Ajude-os a calcular a média de cada um desses valores. Calcule também o ROI (lucro/investimento * 100) de cada um e mostre na tela aquele que obteve o melhor resultado.\n",
    "\n",
    "thiago = {\n",
    "'nome': 'Thiago',\n",
    "'valor_apostas': [100.08, 199.09, 82.24, 79.59, 191.92, 112.92],\n",
    "'ganhos_perdas': [133.11, 55.75, -82.24, 151.22, 320.51, -122.82],\n",
    "'odds': [2.33, 1.28, 2.91, 2.9, 2.67, 1.98]}\n",
    "\n",
    "ana = {\n",
    "'nome': 'Ana',\n",
    "'valor_apostas': [50.6, 151.31, 103.4, 195.13, 127.1, 98.72],\n",
    "'ganhos_perdas': [-50.6, 160.39, -103.4, -195.13, 19.01, -98.72],\n",
    "'odds': [1.93, 2.06, 2.35, 1.75, 1.15, 2.72]}    \n",
    "\n",
    "otavio = {\n",
    "'nome': 'Otavio',\n",
    "'valor_apostas': [195.99, 109.54, 196.79, 85.23, 189.16, 61.94],\n",
    "'ganhos_perdas': [-195.99, 128.16, -196.79, 55.40, 219.43, 61.94],\n",
    "'odds': [2.18, 2.17, 1.58, 1.65, 2.16, 1.07]}    \n"
   ]
  },
  {
   "cell_type": "code",
   "execution_count": 2,
   "metadata": {},
   "outputs": [
    {
     "name": "stdout",
     "output_type": "stream",
     "text": [
      "A média das apostas de Thiago foi: 127.64.\n",
      "A média dos ganhos de Thiago foi: 75.92.\n",
      "A média das odds de Thiago foi: 2.35.\n",
      "O ROI de Thiago foi : 59.48%.\n",
      "-+--+--+--+--+--+--+--+--+--+--+--+--+--+--+--+--+--+--+--+--+-\n",
      "A média das apostas de Ana foi: 121.04.\n",
      "A média dos ganhos de Ana foi: -44.74.\n",
      "A média das odds de Ana foi: 1.99.\n",
      "O ROI de Ana foi : -36.96%.\n",
      "-+--+--+--+--+--+--+--+--+--+--+--+--+--+--+--+--+--+--+--+--+-\n",
      "A média das apostas de Otavio foi: 139.78.\n",
      "A média dos ganhos de Otavio foi: 12.03.\n",
      "A média das odds de Otavio foi: 1.8.\n",
      "O ROI de Otavio foi : 8.6%.\n",
      "-+--+--+--+--+--+--+--+--+--+--+--+--+--+--+--+--+--+--+--+--+-\n",
      "O apostador com melhor desempenho foi Thiago com ROI de 59.48%.\n"
     ]
    }
   ],
   "source": [
    "thiago = {\n",
    "'nome': 'Thiago',\n",
    "'valor_apostas': [100.08, 199.09, 82.24, 79.59, 191.92, 112.92],\n",
    "'ganhos_perdas': [133.11, 55.75, -82.24, 151.22, 320.51, -122.82],\n",
    "'odds': [2.33, 1.28, 2.91, 2.9, 2.67, 1.98]}\n",
    "ana = {\n",
    "'nome': 'Ana',\n",
    "'valor_apostas': [50.6, 151.31, 103.4, 195.13, 127.1, 98.72],\n",
    "'ganhos_perdas': [-50.6, 160.39, -103.4, -195.13, 19.01, -98.72],\n",
    "'odds': [1.93, 2.06, 2.35, 1.75, 1.15, 2.72]}    \n",
    "otavio = {\n",
    "'nome': 'Otavio',\n",
    "'valor_apostas': [195.99, 109.54, 196.79, 85.23, 189.16, 61.94],\n",
    "'ganhos_perdas': [-195.99, 128.16, -196.79, 55.40, 219.43, 61.94],\n",
    "'odds': [2.18, 2.17, 1.58, 1.65, 2.16, 1.07]}   \n",
    "\n",
    "lista_dict = [thiago, ana, otavio]\n",
    "for dict_ in lista_dict:\n",
    "    media_apostas = round(sum(dict_['valor_apostas']) / len(dict_['valor_apostas']),2)\n",
    "    media_ganhos = round(sum(dict_['ganhos_perdas']) / len(dict_['ganhos_perdas']),2)  \n",
    "    media_odds = round(sum(dict_['odds']) / len(dict_['odds']),2) \n",
    "    \n",
    "    dict_['media_apostas'] = media_apostas\n",
    "    dict_['media_ganhos'] = media_ganhos\n",
    "    dict_['media_odds'] = media_odds\n",
    "    dict_['ROI'] = round((sum(dict_['ganhos_perdas']) / sum(dict_['valor_apostas'])) * 100, 2)\n",
    "    \n",
    "for dict_ in lista_dict:\n",
    "    print(f\"A média das apostas de {dict_['nome']} foi: {dict_['media_apostas']}.\")\n",
    "    print(f\"A média dos ganhos de {dict_['nome']} foi: {dict_['media_ganhos']}.\")\n",
    "    print(f\"A média das odds de {dict_['nome']} foi: {dict_['media_odds']}.\")\n",
    "    print(f\"O ROI de {dict_['nome']} foi : {dict_['ROI']}%.\")\n",
    "    print('-+-' * 21)\n",
    "          \n",
    "lista_roi = [dict_['ROI'] for dict_ in lista_dict]\n",
    "          \n",
    "for dict_ in lista_dict:\n",
    "    if dict_['ROI'] == max(lista_roi):\n",
    "        print(f\"O apostador com melhor desempenho foi {dict_['nome']} com ROI de {dict_['ROI']}%.\")\n",
    "    else:\n",
    "        pass"
   ]
  },
  {
   "cell_type": "code",
   "execution_count": null,
   "metadata": {},
   "outputs": [],
   "source": []
  }
 ],
 "metadata": {
  "hide_input": false,
  "kernelspec": {
   "display_name": "Python 3",
   "language": "python",
   "name": "python3"
  },
  "language_info": {
   "codemirror_mode": {
    "name": "ipython",
    "version": 3
   },
   "file_extension": ".py",
   "mimetype": "text/x-python",
   "name": "python",
   "nbconvert_exporter": "python",
   "pygments_lexer": "ipython3",
   "version": "3.7.6"
  },
  "toc": {
   "base_numbering": 1,
   "nav_menu": {},
   "number_sections": true,
   "sideBar": true,
   "skip_h1_title": false,
   "title_cell": "Table of Contents",
   "title_sidebar": "Contents",
   "toc_cell": false,
   "toc_position": {},
   "toc_section_display": true,
   "toc_window_display": false
  },
  "varInspector": {
   "cols": {
    "lenName": 16,
    "lenType": 16,
    "lenVar": 40
   },
   "kernels_config": {
    "python": {
     "delete_cmd_postfix": "",
     "delete_cmd_prefix": "del ",
     "library": "var_list.py",
     "varRefreshCmd": "print(var_dic_list())"
    },
    "r": {
     "delete_cmd_postfix": ") ",
     "delete_cmd_prefix": "rm(",
     "library": "var_list.r",
     "varRefreshCmd": "cat(var_dic_list()) "
    }
   },
   "types_to_exclude": [
    "module",
    "function",
    "builtin_function_or_method",
    "instance",
    "_Feature"
   ],
   "window_display": false
  }
 },
 "nbformat": 4,
 "nbformat_minor": 4
}
